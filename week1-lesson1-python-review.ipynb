{
 "cells": [
  {
   "cell_type": "markdown",
   "id": "57b2ad6b-4737-496e-95f5-bf542de206fe",
   "metadata": {},
   "source": [
    "# Python Review\n",
    "\n",
    "SHort review about some core concepts in Python exemplified by objects in the NumPy library.\n",
    "Goals:\n",
    "\n",
    "- recall basic Pyuthon vocabulary\n",
    "- practice markdown syntax\n",
    "\n",
    "## Libraries and packages\n",
    "\n",
    "**library:** is a collection of code that we can use to perform soecific tasks in our programs. It can be a single file or multiple files.\n",
    "\n",
    "**NumPy:**\n",
    "\n",
    "- core library for numerical comuting in Python\n",
    "- many of libraries use NumPy arrays as their building blocks\n",
    "- computations on NumPy objects are optimized for speed and memory usage\n",
    "\n",
    "Let's inport NumPy with tis **standard abbreviation** `np`:"
   ]
  },
  {
   "cell_type": "code",
   "execution_count": null,
   "id": "822ceebe-ad34-4cc1-a7a8-f98b5746d078",
   "metadata": {
    "tags": []
   },
   "outputs": [],
   "source": [
    "import numpy as np"
   ]
  },
  {
   "cell_type": "markdown",
   "id": "5cc07b05-f4b8-4895-9012-bf197e96b825",
   "metadata": {},
   "source": [
    "(esc + M twice _> convert cell to markdown cell)\n",
    "\n",
    "## Variables\n",
    "\n",
    "**variables:** a name we assign to a particular object in Python\n",
    "\n",
    "Example:"
   ]
  },
  {
   "cell_type": "code",
   "execution_count": 3,
   "id": "393534e5-7bcb-48ec-ba50-ef4645168f3e",
   "metadata": {
    "tags": []
   },
   "outputs": [],
   "source": [
    "# Assign a small array to variable a\n",
    "a = np.array([ [1,1,2], [3,5,8] ])"
   ]
  },
  {
   "cell_type": "markdown",
   "id": "edce4199-2ad7-476b-aeb6-9c8800843a16",
   "metadata": {},
   "source": [
    "To view a variable's value from our Jupiter notebook:"
   ]
  },
  {
   "cell_type": "code",
   "execution_count": 4,
   "id": "cfe1e02f-79e9-4ce4-b5a8-2924c25c11a1",
   "metadata": {
    "tags": []
   },
   "outputs": [
    {
     "data": {
      "text/plain": [
       "array([[1, 1, 2],\n",
       "       [3, 5, 8]])"
      ]
     },
     "execution_count": 4,
     "metadata": {},
     "output_type": "execute_result"
    }
   ],
   "source": [
    "# Run a cell with variable name to show value\n",
    "a"
   ]
  },
  {
   "cell_type": "code",
   "execution_count": 5,
   "id": "ab2ba770-a3d8-4d9d-bb51-bd08f5a4be49",
   "metadata": {
    "tags": []
   },
   "outputs": [
    {
     "name": "stdout",
     "output_type": "stream",
     "text": [
      "[[1 1 2]\n",
      " [3 5 8]]\n"
     ]
    }
   ],
   "source": [
    "# Use `print` function to print the value\n",
    "print(a)"
   ]
  }
 ],
 "metadata": {
  "kernelspec": {
   "display_name": "Anaconda 3 (Base)",
   "language": "python",
   "name": "base"
  },
  "language_info": {
   "codemirror_mode": {
    "name": "ipython",
    "version": 3
   },
   "file_extension": ".py",
   "mimetype": "text/x-python",
   "name": "python",
   "nbconvert_exporter": "python",
   "pygments_lexer": "ipython3",
   "version": "3.9.13"
  }
 },
 "nbformat": 4,
 "nbformat_minor": 5
}
