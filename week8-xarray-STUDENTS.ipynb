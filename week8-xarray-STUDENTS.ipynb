{
 "cells": [
  {
   "cell_type": "markdown",
   "metadata": {},
   "source": [
    "# 13 NetCDF and `xarray`\n",
    "\n",
    "In this lesson, we will get acquainted with a popuar format for working with multidimensional datasets called NetCDF and the Python package `xarray` which is based on NetCDF. \n"
   ]
  },
  {
   "cell_type": "code",
   "execution_count": 1,
   "metadata": {
    "tags": [],
    "vscode": {
     "languageId": "python"
    }
   },
   "outputs": [],
   "source": [
    "# Import packages\n",
    "import os\n",
    "import pandas as pd\n",
    "import matplotlib.pyplot as plt\n",
    "import geopandas as gpd"
   ]
  },
  {
   "cell_type": "markdown",
   "metadata": {},
   "source": [
    "### Variable values\n",
    "\n",
    "The underlying data in the `xarray.DataArray` is a `numpy.array` that holds the variable values. "
   ]
  },
  {
   "cell_type": "code",
   "execution_count": null,
   "metadata": {
    "vscode": {
     "languageId": "python"
    }
   },
   "outputs": [],
   "source": [
    "# Values of a single variable at each point of the coords "
   ]
  },
  {
   "cell_type": "markdown",
   "metadata": {},
   "source": [
    "### Dimensions and Coordinates\n",
    "\n",
    "To specify the dimensions of our upcoming `xarray.DataArray`, we must examine how we've constructed the `numpy.array` holding the temperature data. \n",
    "The first dimension is time, the second is latitude, and longitude the third. \n",
    "\n",
    "From our exercises, we can also see that the coordinates (values of each dimension) are:\n",
    "\n",
    "- time coordinates are 2022-09-01, 2022-09-02, 2022-09-03\n",
    "- latitude coordinates are 70, 60, 50, 40, 30 (notice decreasing order)\n",
    "- longitude coordinates are 60, 70, 80, 90, 100 (notice increasing order)\n",
    "\n",
    "We add the dimensions as a tuple of strings and coordinates as a dictionary:"
   ]
  },
  {
   "cell_type": "code",
   "execution_count": null,
   "metadata": {
    "vscode": {
     "languageId": "python"
    }
   },
   "outputs": [],
   "source": [
    "# Names of the dimensions in the required order\n",
    "\n",
    "# Create coordinates to use for indexing along each dimension \n",
    "coords = {'time':pd.date_range(\"2022-09-01\", \"2022-09-03\"),\n",
    "          'lat':np.arange(70, 20, -10),\n",
    "          'lon':np.arange(60, 110, 10)}  "
   ]
  },
  {
   "cell_type": "markdown",
   "metadata": {},
   "source": [
    "#### Attributes\n",
    "\n",
    "Next, we add the attributes (metadata) for our temperature data as a dictionary:"
   ]
  },
  {
   "cell_type": "code",
   "execution_count": null,
   "metadata": {
    "vscode": {
     "languageId": "python"
    }
   },
   "outputs": [],
   "source": [
    "# Attributes (metadata) of the data array \n",
    "attrs = { 'title':'temperature across weather stations',\n",
    "          'standard_name':'air_temperature',\n",
    "          'units':'degree_c'}"
   ]
  },
  {
   "cell_type": "markdown",
   "metadata": {},
   "source": [
    "#### Putting it all together\n",
    "\n",
    "Finally, we put all these pieces together (data, dimensions, coordinates, and attributes) to create an `xarray.DataArray`:"
   ]
  },
  {
   "cell_type": "code",
   "execution_count": null,
   "metadata": {
    "vscode": {
     "languageId": "python"
    }
   },
   "outputs": [],
   "source": [
    "# Initialize xarray.DataArray\n",
    "temp = xr.DataArray(data = temp_data, \n",
    "                    dims = dims,\n",
    "                    coords = coords,\n",
    "                    attrs = attrs)\n",
    "temp"
   ]
  },
  {
   "cell_type": "markdown",
   "metadata": {},
   "source": [
    "We can also update the variable’s attributes after creating the object. \n",
    "Notice that each of the coordinates is also an `xarray.DataArray`, so we can add attributes to them."
   ]
  },
  {
   "cell_type": "code",
   "execution_count": null,
   "metadata": {
    "vscode": {
     "languageId": "python"
    }
   },
   "outputs": [],
   "source": [
    "# Update attributes\n",
    "temp.attrs['description'] = 'Simple example of an xarray.DataArray'\n",
    "\n",
    "# Add attributes to coordinates \n",
    "temp.time.attrs = {'description':'date of measurement'}\n",
    "\n",
    "temp.lat.attrs['standard_name']= 'grid_latitude'\n",
    "temp.lat.attrs['units'] = 'degree_N'\n",
    "\n",
    "temp.lon.attrs['standard_name']= 'grid_longitude'\n",
    "temp.lon.attrs['units'] = 'degree_E'\n",
    "temp"
   ]
  }
 ],
 "metadata": {
  "kernelspec": {
   "display_name": "Anaconda 3 (EDS220)",
   "language": "python",
   "name": "eds220-env"
  },
  "language_info": {
   "codemirror_mode": {
    "name": "ipython",
    "version": 3
   },
   "file_extension": ".py",
   "mimetype": "text/x-python",
   "name": "python",
   "nbconvert_exporter": "python",
   "pygments_lexer": "ipython3",
   "version": "3.11.4"
  }
 },
 "nbformat": 4,
 "nbformat_minor": 4
}
